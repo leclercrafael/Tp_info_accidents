{
 "cells": [
  {
   "cell_type": "code",
   "execution_count": 2,
   "id": "dcf465d9-b6ad-44b7-b6b4-8c23b8ad2cf0",
   "metadata": {},
   "outputs": [],
   "source": [
    "import pandas as pd\n",
    "import numpy as np"
   ]
  },
  {
   "cell_type": "code",
   "execution_count": 3,
   "id": "a829d93b-6a81-483f-84ec-3b1b0268f48d",
   "metadata": {
    "scrolled": true
   },
   "outputs": [
    {
     "name": "stderr",
     "output_type": "stream",
     "text": [
      "/var/folders/v_/gtnd733903d840s36t14rkkc0000gn/T/ipykernel_11260/4129767128.py:1: DtypeWarning: Columns (6) have mixed types. Specify dtype option on import or set low_memory=False.\n",
      "  lieux = pd.read_csv('lieux-2022.csv', index_col = 'Num_Acc', sep=';')\n"
     ]
    }
   ],
   "source": [
    "lieux = pd.read_csv('lieux-2022.csv', index_col = 'Num_Acc', sep=';')\n"
   ]
  },
  {
   "cell_type": "code",
   "execution_count": 4,
   "id": "6d3620c3-1ac9-497c-a9b3-67fb1d4b17fc",
   "metadata": {},
   "outputs": [
    {
     "data": {
      "text/plain": [
       "catr        int64\n",
       "voie       object\n",
       "v1          int64\n",
       "v2         object\n",
       "circ        int64\n",
       "nbv        object\n",
       "vosp        int64\n",
       "prof        int64\n",
       "pr         object\n",
       "pr1        object\n",
       "plan        int64\n",
       "lartpc     object\n",
       "larrout    object\n",
       "surf        int64\n",
       "infra       int64\n",
       "situ        int64\n",
       "vma         int64\n",
       "dtype: object"
      ]
     },
     "execution_count": 4,
     "metadata": {},
     "output_type": "execute_result"
    }
   ],
   "source": [
    "lieux.dtypes"
   ]
  },
  {
   "cell_type": "markdown",
   "id": "1f41823b-cb55-492b-a8ac-a62b5bbeb9e6",
   "metadata": {},
   "source": [
    "On supprime les colonnes qui n'ont peu d'intérêt comme lartpc : largeur du terre plein central, situ : situation de l'accident sur la route (sur la chaussée, bande d'arret d'urgence etc..)"
   ]
  },
  {
   "cell_type": "code",
   "execution_count": 5,
   "id": "8dcb8bf9-7afe-4416-859b-b3d7c1884bba",
   "metadata": {},
   "outputs": [],
   "source": [
    "lieux = lieux.drop(['voie', 'v1', 'v2','vosp','pr','pr1','lartpc'], axis= 1)"
   ]
  },
  {
   "cell_type": "code",
   "execution_count": 6,
   "id": "c2bd4b63-4e18-44fd-9909-4f9c4f29f8b0",
   "metadata": {},
   "outputs": [
    {
     "data": {
      "text/html": [
       "<div>\n",
       "<style scoped>\n",
       "    .dataframe tbody tr th:only-of-type {\n",
       "        vertical-align: middle;\n",
       "    }\n",
       "\n",
       "    .dataframe tbody tr th {\n",
       "        vertical-align: top;\n",
       "    }\n",
       "\n",
       "    .dataframe thead th {\n",
       "        text-align: right;\n",
       "    }\n",
       "</style>\n",
       "<table border=\"1\" class=\"dataframe\">\n",
       "  <thead>\n",
       "    <tr style=\"text-align: right;\">\n",
       "      <th></th>\n",
       "      <th>catr</th>\n",
       "      <th>circ</th>\n",
       "      <th>nbv</th>\n",
       "      <th>prof</th>\n",
       "      <th>plan</th>\n",
       "      <th>larrout</th>\n",
       "      <th>surf</th>\n",
       "      <th>infra</th>\n",
       "      <th>situ</th>\n",
       "      <th>vma</th>\n",
       "    </tr>\n",
       "    <tr>\n",
       "      <th>Num_Acc</th>\n",
       "      <th></th>\n",
       "      <th></th>\n",
       "      <th></th>\n",
       "      <th></th>\n",
       "      <th></th>\n",
       "      <th></th>\n",
       "      <th></th>\n",
       "      <th></th>\n",
       "      <th></th>\n",
       "      <th></th>\n",
       "    </tr>\n",
       "  </thead>\n",
       "  <tbody>\n",
       "    <tr>\n",
       "      <th>202200000001</th>\n",
       "      <td>4</td>\n",
       "      <td>2</td>\n",
       "      <td>2</td>\n",
       "      <td>1</td>\n",
       "      <td>1</td>\n",
       "      <td>-1</td>\n",
       "      <td>1</td>\n",
       "      <td>0</td>\n",
       "      <td>1</td>\n",
       "      <td>50</td>\n",
       "    </tr>\n",
       "    <tr>\n",
       "      <th>202200000002</th>\n",
       "      <td>4</td>\n",
       "      <td>2</td>\n",
       "      <td>2</td>\n",
       "      <td>1</td>\n",
       "      <td>1</td>\n",
       "      <td>-1</td>\n",
       "      <td>1</td>\n",
       "      <td>0</td>\n",
       "      <td>1</td>\n",
       "      <td>50</td>\n",
       "    </tr>\n",
       "    <tr>\n",
       "      <th>202200000003</th>\n",
       "      <td>3</td>\n",
       "      <td>-1</td>\n",
       "      <td>2</td>\n",
       "      <td>1</td>\n",
       "      <td>1</td>\n",
       "      <td>-1</td>\n",
       "      <td>1</td>\n",
       "      <td>5</td>\n",
       "      <td>1</td>\n",
       "      <td>50</td>\n",
       "    </tr>\n",
       "    <tr>\n",
       "      <th>202200000004</th>\n",
       "      <td>4</td>\n",
       "      <td>1</td>\n",
       "      <td>1</td>\n",
       "      <td>2</td>\n",
       "      <td>1</td>\n",
       "      <td>4</td>\n",
       "      <td>1</td>\n",
       "      <td>0</td>\n",
       "      <td>1</td>\n",
       "      <td>30</td>\n",
       "    </tr>\n",
       "    <tr>\n",
       "      <th>202200000005</th>\n",
       "      <td>3</td>\n",
       "      <td>2</td>\n",
       "      <td>2</td>\n",
       "      <td>1</td>\n",
       "      <td>1</td>\n",
       "      <td>-1</td>\n",
       "      <td>1</td>\n",
       "      <td>0</td>\n",
       "      <td>1</td>\n",
       "      <td>80</td>\n",
       "    </tr>\n",
       "    <tr>\n",
       "      <th>...</th>\n",
       "      <td>...</td>\n",
       "      <td>...</td>\n",
       "      <td>...</td>\n",
       "      <td>...</td>\n",
       "      <td>...</td>\n",
       "      <td>...</td>\n",
       "      <td>...</td>\n",
       "      <td>...</td>\n",
       "      <td>...</td>\n",
       "      <td>...</td>\n",
       "    </tr>\n",
       "    <tr>\n",
       "      <th>202200055298</th>\n",
       "      <td>3</td>\n",
       "      <td>2</td>\n",
       "      <td>2</td>\n",
       "      <td>2</td>\n",
       "      <td>1</td>\n",
       "      <td>-1</td>\n",
       "      <td>1</td>\n",
       "      <td>0</td>\n",
       "      <td>8</td>\n",
       "      <td>80</td>\n",
       "    </tr>\n",
       "    <tr>\n",
       "      <th>202200055299</th>\n",
       "      <td>3</td>\n",
       "      <td>2</td>\n",
       "      <td>2</td>\n",
       "      <td>1</td>\n",
       "      <td>2</td>\n",
       "      <td>-1</td>\n",
       "      <td>1</td>\n",
       "      <td>0</td>\n",
       "      <td>3</td>\n",
       "      <td>80</td>\n",
       "    </tr>\n",
       "    <tr>\n",
       "      <th>202200055300</th>\n",
       "      <td>3</td>\n",
       "      <td>2</td>\n",
       "      <td>2</td>\n",
       "      <td>1</td>\n",
       "      <td>2</td>\n",
       "      <td>-1</td>\n",
       "      <td>7</td>\n",
       "      <td>0</td>\n",
       "      <td>3</td>\n",
       "      <td>80</td>\n",
       "    </tr>\n",
       "    <tr>\n",
       "      <th>202200055301</th>\n",
       "      <td>3</td>\n",
       "      <td>2</td>\n",
       "      <td>2</td>\n",
       "      <td>1</td>\n",
       "      <td>1</td>\n",
       "      <td>-1</td>\n",
       "      <td>1</td>\n",
       "      <td>0</td>\n",
       "      <td>1</td>\n",
       "      <td>80</td>\n",
       "    </tr>\n",
       "    <tr>\n",
       "      <th>202200055302</th>\n",
       "      <td>3</td>\n",
       "      <td>3</td>\n",
       "      <td>4</td>\n",
       "      <td>1</td>\n",
       "      <td>1</td>\n",
       "      <td>4</td>\n",
       "      <td>1</td>\n",
       "      <td>0</td>\n",
       "      <td>1</td>\n",
       "      <td>70</td>\n",
       "    </tr>\n",
       "  </tbody>\n",
       "</table>\n",
       "<p>55302 rows × 10 columns</p>\n",
       "</div>"
      ],
      "text/plain": [
       "              catr  circ nbv  prof  plan larrout  surf  infra  situ  vma\n",
       "Num_Acc                                                                 \n",
       "202200000001     4     2   2     1     1      -1     1      0     1   50\n",
       "202200000002     4     2   2     1     1      -1     1      0     1   50\n",
       "202200000003     3    -1   2     1     1      -1     1      5     1   50\n",
       "202200000004     4     1   1     2     1       4     1      0     1   30\n",
       "202200000005     3     2   2     1     1      -1     1      0     1   80\n",
       "...            ...   ...  ..   ...   ...     ...   ...    ...   ...  ...\n",
       "202200055298     3     2   2     2     1      -1     1      0     8   80\n",
       "202200055299     3     2   2     1     2      -1     1      0     3   80\n",
       "202200055300     3     2   2     1     2      -1     7      0     3   80\n",
       "202200055301     3     2   2     1     1      -1     1      0     1   80\n",
       "202200055302     3     3   4     1     1       4     1      0     1   70\n",
       "\n",
       "[55302 rows x 10 columns]"
      ]
     },
     "execution_count": 6,
     "metadata": {},
     "output_type": "execute_result"
    }
   ],
   "source": [
    "lieux"
   ]
  },
  {
   "cell_type": "markdown",
   "id": "dccd373f-c7cb-456e-83ba-a5c615beea1f",
   "metadata": {},
   "source": [
    "On peut s'intéresser au nombre d'accidents en fonction de la vmax = 'vma' :"
   ]
  },
  {
   "cell_type": "code",
   "execution_count": 7,
   "id": "8db55d58-d1c8-4d40-bbc5-0917f22b1f3e",
   "metadata": {},
   "outputs": [
    {
     "data": {
      "text/plain": [
       "<Axes: xlabel='vma'>"
      ]
     },
     "execution_count": 7,
     "metadata": {},
     "output_type": "execute_result"
    },
    {
     "data": {
      "image/png": "[encoded data removed]",
      "text/plain": [
       "<Figure size 640x480 with 1 Axes>"
      ]
     },
     "metadata": {},
     "output_type": "display_data"
    }
   ],
   "source": [
    "lieux['vma'].value_counts().sort_index().plot(kind ='bar')"
   ]
  },
  {
   "cell_type": "code",
   "execution_count": 9,
   "id": "161edbc1-50d6-423b-bbd1-bc8b7f778e72",
   "metadata": {},
   "outputs": [
    {
     "data": {
      "text/plain": [
       "<Axes: xlabel='vma'>"
      ]
     },
     "execution_count": 9,
     "metadata": {},
     "output_type": "execute_result"
    },
    {
     "data": {
      "image/png": "[encoded data removed]",
      "text/plain": [
       "<Figure size 640x480 with 1 Axes>"
      ]
     },
     "metadata": {},
     "output_type": "display_data"
    }
   ],
   "source": [
    "lieuxv = lieux['vma']\n",
    "lieuxv.loc[( lieux['vma'] <=280)].value_counts().sort_index().plot(kind = 'bar')"
   ]
  },
  {
   "cell_type": "markdown",
   "id": "f484ab5d-09b5-447a-bc09-6212282a9fc0",
   "metadata": {},
   "source": [
    "On remarque que la plupart des accidents ont lieu à 50 km/h et pas au dessus de 100km/h : ce sont des accidents moins dangereux.\n"
   ]
  },
  {
   "cell_type": "markdown",
   "id": "2080a9b3-1e70-46b5-8380-d53aa61c8c83",
   "metadata": {},
   "source": [
    "Quelles sont les surfaces qui causent le plus d'accidents ? les surfaces mouillées ? -> proportion?"
   ]
  },
  {
   "cell_type": "code",
   "execution_count": 11,
   "id": "01cb6476-36c7-4a82-9ef8-959923b19538",
   "metadata": {},
   "outputs": [
    {
     "data": {
      "text/plain": [
       "<Axes: xlabel='surf'>"
      ]
     },
     "execution_count": 11,
     "metadata": {},
     "output_type": "execute_result"
    },
    {
     "data": {
      "image/png": "[encoded data removed]",
      "text/plain": [
       "<Figure size 640x480 with 1 Axes>"
      ]
     },
     "metadata": {},
     "output_type": "display_data"
    }
   ],
   "source": [
    "lieus = lieux['surf']\n",
    "lieus.loc[(lieux['surf'] !=-1)].value_counts().sort_index().plot(kind ='bar')"
   ]
  },
  {
   "cell_type": "markdown",
   "id": "a7e2bda9-8c9d-46b7-bf46-c91b221f1e7c",
   "metadata": {},
   "source": [
    "très peu d'accidents arrivent sur des surfaces autres que 1 et 2 : qui sont les surfaces normales et mouillées (le reste est enneigée, boueux etc..) -> au final les surfaces ne sont pas très pertinentes. Regardons maintenant les catégories de route où arrivent les accidents."
   ]
  },
  {
   "cell_type": "code",
   "execution_count": 10,
   "id": "b02b8ff0-0444-484b-98a7-c1b5210e8ca1",
   "metadata": {},
   "outputs": [
    {
     "data": {
      "text/plain": [
       "<Axes: xlabel='catr'>"
      ]
     },
     "execution_count": 10,
     "metadata": {},
     "output_type": "execute_result"
    },
    {
     "data": {
      "image/png": "[encoded data removed]",
      "text/plain": [
       "<Figure size 640x480 with 1 Axes>"
      ]
     },
     "metadata": {},
     "output_type": "display_data"
    }
   ],
   "source": [
    "lieuxc =lieux['catr']\n",
    "lieuxc.value_counts().sort_index().plot(kind ='bar')\n"
   ]
  },
  {
   "cell_type": "markdown",
   "id": "8218affa-9015-4dd5-b100-a978ac838610",
   "metadata": {},
   "source": [
    "Les catégories de route les plus impliqués sont les : routes départementales (3), voies communales (4), autoroutes (1) et routes de métropoles urbaines (7). Ainsi, cela est contre intuitif, on pourrait penser que les autoroutes causent beaucoup d'accidents car on y roule plus vite mais ce n'est pas le cas."
   ]
  }
 ],
 "metadata": {
  "kernelspec": {
   "display_name": "Python 3 (ipykernel)",
   "language": "python",
   "name": "python3"
  },
  "language_info": {
   "codemirror_mode": {
    "name": "ipython",
    "version": 3
   },
   "file_extension": ".py",
   "mimetype": "text/x-python",
   "name": "python",
   "nbconvert_exporter": "python",
   "pygments_lexer": "ipython3",
   "version": "3.12.4"
  }
 },
 "nbformat": 4,
 "nbformat_minor": 5
}
